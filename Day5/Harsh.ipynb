{
 "cells": [
  {
   "cell_type": "code",
   "execution_count": null,
   "id": "d1f6220b",
   "metadata": {},
   "outputs": [],
   "source": [
    "import pandas as pd;\n",
    "import numpy as np;\n",
    "import matplotlib.pyplot as plt"
   ]
  },
  {
   "cell_type": "markdown",
   "id": "25630c03",
   "metadata": {},
   "source": [
    "# 🧭 Step 1: Understand the Data You’re Working With\n",
    "Hint: Before doing anything else, load the dataset and try to get a feel of the data.\n",
    "Ask questions like:\n",
    "\n",
    "1. What columns are there?\n",
    "\n",
    "2. What types of values do they hold?\n",
    "\n",
    "3. Any weird values you notice right away?\n",
    "\n",
    "4. Are there NaNs?"
   ]
  },
  {
   "cell_type": "code",
   "execution_count": null,
   "id": "c5732304",
   "metadata": {},
   "outputs": [],
   "source": [
    "df=pd.read_csv('dirty_credit_card_fraud_dataset.csv')"
   ]
  },
  {
   "cell_type": "code",
   "execution_count": null,
   "id": "b8a3c6cf",
   "metadata": {},
   "outputs": [],
   "source": [
    "df1=df.copy()"
   ]
  },
  {
   "cell_type": "code",
   "execution_count": null,
   "id": "0569685f",
   "metadata": {},
   "outputs": [],
   "source": [
    "df"
   ]
  },
  {
   "cell_type": "code",
   "execution_count": null,
   "id": "a83dc925",
   "metadata": {},
   "outputs": [],
   "source": [
    "df.shape"
   ]
  },
  {
   "cell_type": "code",
   "execution_count": null,
   "id": "dc97e6a1",
   "metadata": {},
   "outputs": [],
   "source": [
    "df.info()"
   ]
  },
  {
   "cell_type": "code",
   "execution_count": null,
   "id": "e290c216",
   "metadata": {},
   "outputs": [],
   "source": [
    "df.isnull().sum()"
   ]
  },
  {
   "cell_type": "code",
   "execution_count": null,
   "id": "ef33464f",
   "metadata": {},
   "outputs": [],
   "source": [
    "df['IsFraud'].value_counts()"
   ]
  },
  {
   "cell_type": "code",
   "execution_count": null,
   "id": "2a73d1aa",
   "metadata": {},
   "outputs": [],
   "source": [
    "df['Merchant'].value_counts()"
   ]
  },
  {
   "cell_type": "markdown",
   "id": "bbc3518d",
   "metadata": {},
   "source": [
    "# 🧭 Step 2: Get Specific About the Missing Data\n",
    "Hint:\n",
    "Start answering questions like:\n",
    "\n",
    "1. How many missing values in each column?\n",
    "\n",
    "2. What percentage of values are missing?\n",
    "\n",
    "3. Which columns are the dirtiest?\n",
    "\n",
    "4. Are there rows where too many things are missing?"
   ]
  },
  {
   "cell_type": "code",
   "execution_count": null,
   "id": "91a2814f",
   "metadata": {},
   "outputs": [],
   "source": [
    "(df.isna().mean() * 100)"
   ]
  },
  {
   "cell_type": "code",
   "execution_count": null,
   "id": "c1ab6214",
   "metadata": {},
   "outputs": [],
   "source": [
    "## it says the rows with maximum missing columns\n",
    "df.isnull().sum(axis=1).sort_values(ascending=False).head(10)"
   ]
  },
  {
   "cell_type": "markdown",
   "id": "e0e3c4cb",
   "metadata": {},
   "source": [
    "# 🧭 Step 3: Plan Your Cleaning Strategy (Column-Wise)\n",
    "Hint:\n",
    "Now that you know which columns and rows are messy — ask yourself:\n",
    "\n",
    "🔍 For each dirty column:\n",
    "1. Is it important for ML? (e.g., TransactionAmount, CardType)\n",
    "\n",
    "2.  Can missing values be filled?\n",
    "\n",
    "    Mean/median for numerical\n",
    "\n",
    "    Mode for categorical\n",
    "\n",
    "    \"Unknown\"/\"Other\" if the category isn't important\n",
    "\n",
    "    Or should it be dropped? (if too many missing or not useful)\n",
    "\n",
    "3. 🔍 For dirty rows:\n",
    "    If only 1–2 columns are missing, maybe fill them.\n",
    "\n",
    "    If 4–5+ columns are missing, maybe drop the row."
   ]
  },
  {
   "cell_type": "code",
   "execution_count": null,
   "id": "5d32723a",
   "metadata": {},
   "outputs": [],
   "source": [
    "## TRANSACTION AMOUNT\n",
    "\n",
    "df['TransactionAmount'].isnull().sum()"
   ]
  },
  {
   "cell_type": "code",
   "execution_count": null,
   "id": "421d6a5f",
   "metadata": {},
   "outputs": [],
   "source": [
    "df['TransactionAmount'].describe()"
   ]
  },
  {
   "cell_type": "code",
   "execution_count": null,
   "id": "a917e866",
   "metadata": {},
   "outputs": [],
   "source": [
    "df[df['TransactionAmount']>700].count()\n",
    "## it means there are outliers also"
   ]
  },
  {
   "cell_type": "code",
   "execution_count": null,
   "id": "8539ecd1",
   "metadata": {},
   "outputs": [],
   "source": [
    "## we fill missing values with median due to outliers\n",
    "median_value = df['TransactionAmount'].median()\n",
    "df['TransactionAmount'].fillna(median_value, inplace=True)"
   ]
  },
  {
   "cell_type": "code",
   "execution_count": null,
   "id": "466f2f27",
   "metadata": {},
   "outputs": [],
   "source": [
    "## Transaction Type\n",
    "\n",
    "df['TransactionType'].value_counts()\n"
   ]
  },
  {
   "cell_type": "code",
   "execution_count": null,
   "id": "483d30f4",
   "metadata": {},
   "outputs": [],
   "source": [
    "#change ATM to atm\n",
    "#change swpie to swipe\n",
    "#change Onlne to online\n",
    "\n",
    "df['TransactionType'] = df['TransactionType'].replace('ATM', 'atm')\n",
    "df['TransactionType'] = df['TransactionType'].replace('swpie', 'swipe')\n",
    "df['TransactionType'] = df['TransactionType'].replace('Onlne', 'online')"
   ]
  },
  {
   "cell_type": "code",
   "execution_count": null,
   "id": "de428c30",
   "metadata": {},
   "outputs": [],
   "source": [
    "df['TransactionType'].value_counts()"
   ]
  },
  {
   "cell_type": "code",
   "execution_count": null,
   "id": "80604488",
   "metadata": {},
   "outputs": [],
   "source": [
    "df['TransactionType']=df['TransactionType'].fillna('missing')"
   ]
  },
  {
   "cell_type": "code",
   "execution_count": null,
   "id": "992c600a",
   "metadata": {},
   "outputs": [],
   "source": [
    "df['CardType'].value_counts()"
   ]
  },
  {
   "cell_type": "code",
   "execution_count": null,
   "id": "c197c203",
   "metadata": {},
   "outputs": [],
   "source": [
    "## change all names in credit and debit\n",
    "\n",
    "df['CardType'] = df['CardType'].replace(['Credit','credt'], 'online')\n",
    "df['CardType'] = df['CardType'].replace(['Debit','dbit'], 'debit')"
   ]
  },
  {
   "cell_type": "code",
   "execution_count": null,
   "id": "51a880d6",
   "metadata": {},
   "outputs": [],
   "source": [
    "df['CardType'].value_counts()\n"
   ]
  },
  {
   "cell_type": "code",
   "execution_count": null,
   "id": "d6e034ae",
   "metadata": {},
   "outputs": [],
   "source": [
    "df['CardType'].value_counts()"
   ]
  },
  {
   "cell_type": "code",
   "execution_count": null,
   "id": "5d6d4376",
   "metadata": {},
   "outputs": [],
   "source": [
    "df['CardType'].isna().sum()"
   ]
  },
  {
   "cell_type": "code",
   "execution_count": null,
   "id": "e9057c85",
   "metadata": {},
   "outputs": [],
   "source": [
    "df['CardType'].value_counts()"
   ]
  },
  {
   "cell_type": "code",
   "execution_count": null,
   "id": "ce2011e1",
   "metadata": {},
   "outputs": [],
   "source": [
    "df['CardType']=df['CardType'].fillna(df['CardType'].mode()[0])"
   ]
  },
  {
   "cell_type": "code",
   "execution_count": null,
   "id": "b75d8745",
   "metadata": {},
   "outputs": [],
   "source": [
    "df['CardType'].value_counts()"
   ]
  },
  {
   "cell_type": "code",
   "execution_count": null,
   "id": "f334be17",
   "metadata": {},
   "outputs": [],
   "source": [
    "df.head()"
   ]
  },
  {
   "cell_type": "code",
   "execution_count": null,
   "id": "42f32837",
   "metadata": {},
   "outputs": [],
   "source": [
    "df['Merchant'].isna().sum()"
   ]
  },
  {
   "cell_type": "code",
   "execution_count": null,
   "id": "cfbd13df",
   "metadata": {},
   "outputs": [],
   "source": [
    "df.fillna({'Merchant':'unknown_merchant'},inplace=True)\n",
    "\n",
    "# df['Merchant']=df['Merchant'].fillna('unknown_merchant')"
   ]
  },
  {
   "cell_type": "code",
   "execution_count": null,
   "id": "3d9091de",
   "metadata": {},
   "outputs": [],
   "source": [
    "df.head()"
   ]
  },
  {
   "cell_type": "code",
   "execution_count": null,
   "id": "e0fa55ea",
   "metadata": {},
   "outputs": [],
   "source": [
    "df['DeviceType'].value_counts()"
   ]
  },
  {
   "cell_type": "code",
   "execution_count": null,
   "id": "a5edc06c",
   "metadata": {},
   "outputs": [],
   "source": [
    "# change some names\n",
    "\n",
    "df['DeviceType']=df['DeviceType'].replace('Mobile','mobile')\n",
    "\n",
    "df['DeviceType']=df['DeviceType'].replace('dsk','disk')"
   ]
  },
  {
   "cell_type": "code",
   "execution_count": null,
   "id": "c6e75b80",
   "metadata": {},
   "outputs": [],
   "source": [
    "df['DeviceType'].value_counts()"
   ]
  },
  {
   "cell_type": "code",
   "execution_count": null,
   "id": "f516b468",
   "metadata": {},
   "outputs": [],
   "source": [
    "(df.isna().mean() * 100)"
   ]
  },
  {
   "cell_type": "code",
   "execution_count": null,
   "id": "09f1de7e",
   "metadata": {},
   "outputs": [],
   "source": [
    "df['TransactionType'].mode()"
   ]
  },
  {
   "cell_type": "code",
   "execution_count": null,
   "id": "fe1118da",
   "metadata": {},
   "outputs": [],
   "source": [
    "df['Location'].value_counts()"
   ]
  },
  {
   "cell_type": "code",
   "execution_count": null,
   "id": "498fe933",
   "metadata": {},
   "outputs": [],
   "source": [
    "from scipy.stats import entropy\n",
    "\n",
    "counts = df['Location'].value_counts(normalize=True)\n",
    "entropy_val = entropy(counts, base=2)\n",
    "print(\"Entropy:\", entropy_val)\n"
   ]
  },
  {
   "cell_type": "code",
   "execution_count": null,
   "id": "ebc7fe5f",
   "metadata": {},
   "outputs": [],
   "source": [
    "df2=df.copy()"
   ]
  },
  {
   "cell_type": "code",
   "execution_count": null,
   "id": "6f5dc408",
   "metadata": {},
   "outputs": [],
   "source": [
    "df['DeviceType'].value_counts()"
   ]
  },
  {
   "cell_type": "code",
   "execution_count": null,
   "id": "1bb521f2",
   "metadata": {},
   "outputs": [],
   "source": [
    "## filling missing values ith other \n",
    "\n",
    "df['DeviceType']=df['DeviceType'].fillna('Other')"
   ]
  },
  {
   "cell_type": "code",
   "execution_count": null,
   "id": "d631e5f3",
   "metadata": {},
   "outputs": [],
   "source": [
    "df.info()"
   ]
  },
  {
   "cell_type": "code",
   "execution_count": null,
   "id": "a2c4346a",
   "metadata": {},
   "outputs": [],
   "source": [
    "df.duplicated().sum()"
   ]
  },
  {
   "cell_type": "code",
   "execution_count": null,
   "id": "227c2ae1",
   "metadata": {},
   "outputs": [],
   "source": [
    "df.drop_duplicates(inplace=True)"
   ]
  },
  {
   "cell_type": "code",
   "execution_count": null,
   "id": "3bb4d75a",
   "metadata": {},
   "outputs": [],
   "source": [
    "df.shape"
   ]
  },
  {
   "cell_type": "code",
   "execution_count": null,
   "id": "aa1f37ea",
   "metadata": {},
   "outputs": [],
   "source": [
    "df.info()"
   ]
  },
  {
   "cell_type": "code",
   "execution_count": null,
   "id": "5ea8fe7d",
   "metadata": {},
   "outputs": [],
   "source": [
    "### FETCH YEAR AND MONTH FROM TIMESTAMP\n",
    "\n",
    "# Convert the 'Timestamp' column to datetime\n",
    "df['Timestamp'] = pd.to_datetime(df['Timestamp'])\n",
    "\n",
    "# Extract Year and Month\n",
    "df['Year'] = df['Timestamp'].dt.year\n",
    "df['Month'] = df['Timestamp'].dt.month\n",
    "\n"
   ]
  },
  {
   "cell_type": "code",
   "execution_count": null,
   "id": "8c2a2c82",
   "metadata": {},
   "outputs": [],
   "source": [
    "df['Time'] = df['Timestamp'].dt.strftime('%H:%M:%S')"
   ]
  },
  {
   "cell_type": "code",
   "execution_count": null,
   "id": "af1d58d3",
   "metadata": {},
   "outputs": [],
   "source": [
    "df.drop(columns=['Timestamp'],inplace=True)"
   ]
  },
  {
   "cell_type": "code",
   "execution_count": null,
   "id": "84892a3c",
   "metadata": {},
   "outputs": [],
   "source": [
    "df"
   ]
  },
  {
   "cell_type": "code",
   "execution_count": null,
   "id": "07751a76",
   "metadata": {},
   "outputs": [],
   "source": [
    "df.drop(columns=['Location'],inplace=True)"
   ]
  },
  {
   "cell_type": "code",
   "execution_count": null,
   "id": "3f6ffbb8",
   "metadata": {},
   "outputs": [],
   "source": [
    "cleaned=df.copy()"
   ]
  },
  {
   "cell_type": "code",
   "execution_count": null,
   "id": "cb321ed5",
   "metadata": {},
   "outputs": [],
   "source": [
    "df.info()\n"
   ]
  },
  {
   "cell_type": "markdown",
   "id": "1b2d4e09",
   "metadata": {},
   "source": [
    "## :) HERE WE GET OUR CLEANED DATASET WITHOUT MISSING VALUES"
   ]
  },
  {
   "cell_type": "code",
   "execution_count": null,
   "id": "72af78af",
   "metadata": {},
   "outputs": [],
   "source": [
    "cleaned.head()"
   ]
  },
  {
   "cell_type": "code",
   "execution_count": null,
   "id": "2a6e3f1d",
   "metadata": {},
   "outputs": [],
   "source": []
  },
  {
   "cell_type": "markdown",
   "id": "aefad354",
   "metadata": {},
   "source": [
    "# Histogram\n",
    "- It shows that Transaction Amount has mostly higher values\n",
    "- This is baised data because IsFraud have column have mostly 0 value"
   ]
  },
  {
   "cell_type": "code",
   "execution_count": null,
   "id": "25569272",
   "metadata": {},
   "outputs": [],
   "source": [
    "df.hist(figsize=(15, 15))\n",
    "plt.show()"
   ]
  },
  {
   "cell_type": "markdown",
   "id": "cb50a429",
   "metadata": {},
   "source": [
    "# Boxplot (Finding Outliers and Spread)\n",
    "- Show the spread (minimum, maximum, median, quartiles).\n",
    "\n",
    "- Show outliers (dots outside the box).\n",
    "- 📍 Small box → Feature values are very close together (low variance).\n",
    "\n",
    "- 📍 Big box → Feature values are spread out (high variance).\n",
    "\n",
    "- 📍 Many dots outside → Feature has many outliers."
   ]
  },
  {
   "cell_type": "code",
   "execution_count": null,
   "id": "8e55fbbf",
   "metadata": {},
   "outputs": [],
   "source": [
    "import seaborn as sns"
   ]
  },
  {
   "cell_type": "code",
   "execution_count": null,
   "id": "75e09a23",
   "metadata": {},
   "outputs": [],
   "source": [
    "# Boxplot for all TransactionAmount features\n",
    "plt.figure(figsize=(20, 10))\n",
    "sns.boxplot(data=df['TransactionAmount'])\n",
    "plt.xticks(rotation=90)\n",
    "plt.title('Boxplot for each feature')\n",
    "plt.show()"
   ]
  },
  {
   "cell_type": "markdown",
   "id": "8bcfd8f8",
   "metadata": {},
   "source": [
    "#  Correlation Matrix (Heatmap)\n",
    "- Calculate correlation between all features.\n",
    "\n",
    "- Plot a colorful heatmap where:\n",
    "\n",
    "- - +1 → Strong positive relationship\n",
    "\n",
    "- - -1 → Strong negative relationship\n",
    "\n",
    "- - 0 → No relationship\n",
    "\n",
    "- Color\t      ----->>       Meaning\n",
    "\n",
    "- - Dark Red\t   ----->>      Strong Positive (feature increases together)\n",
    "\n",
    "- - Dark Blue\t    ----->>     Strong Negative (one feature increases, other decreases)\n",
    "\n",
    "- - White or Light\t   ----->>  Weak/No relation\n",
    "\n",
    "- 📍 Correlation near +1 → Features are similar (move together).\n",
    "\n",
    "- 📍 Correlation near -1 → Features are opposite.\n",
    "\n",
    "- 📍 Correlation near 0 → Features are independent."
   ]
  },
  {
   "cell_type": "code",
   "execution_count": null,
   "id": "c295921f",
   "metadata": {},
   "outputs": [],
   "source": [
    "# Keep only numeric columns\n",
    "numeric_df = df.select_dtypes(include=['number'])\n",
    "\n",
    "# Calculate correlation\n",
    "corr_matrix = numeric_df.corr()\n",
    "\n",
    "# Plot heatmap\n",
    "plt.figure(figsize=(15, 10))\n",
    "sns.heatmap(corr_matrix, annot=True, cmap='coolwarm', fmt=\".2f\")\n",
    "plt.title('Correlation Heatmap (Numeric Features Only)')\n",
    "plt.show()"
   ]
  },
  {
   "cell_type": "markdown",
   "id": "eb399f6a",
   "metadata": {},
   "source": [
    "# Count Plot\n",
    "\n",
    "- ✅ After seeing this, you will know:\n",
    "\n",
    "- - Whether your dataset is imbalanced (most real-world fraud datasets are).\n",
    "\n",
    "- - Whether you need techniques like oversampling/undersampling later during model training."
   ]
  },
  {
   "cell_type": "code",
   "execution_count": null,
   "id": "7f0f9d5e",
   "metadata": {},
   "outputs": [],
   "source": [
    "\n",
    "# Assuming 'Class' is the column where\n",
    "# 0 = Not Fraud, 1 = Fraud\n",
    "plt.figure(figsize=(6,4))\n",
    "sns.countplot(x='IsFraud', data=df)\n",
    "plt.title('Count of Non-Fraud vs Fraud Cases')\n",
    "plt.xlabel('Class (0 = Not Fraud, 1 = Fraud)')\n",
    "plt.ylabel('Count')\n",
    "plt.show()\n"
   ]
  },
  {
   "cell_type": "markdown",
   "id": "dfece73d",
   "metadata": {},
   "source": [
    "# Pairplot (Scatterplots between features)\n",
    "- ✅ What this code does:\n",
    "\n",
    "- Picks only a few important features (because pairplot becomes very heavy if we use full dataset).\n",
    "\n",
    "- Plots scatterplots for each feature pair.\n",
    "\n",
    "- Colors points based on 'Class' (0 = Non-fraud, 1 = Fraud).\n",
    "\n",
    "- Observation ------>\tMeaning\n",
    "- - Fraud and non-fraud points are separated ------>\tThese features are good for model training\n",
    "- - Fraud and non-fraud points mixed ------>\tThese features may not help much\n",
    "\n",
    "- ✅ After pairplot, you will visually know:\n",
    "\n",
    "- - Which features help in separating fraud cases.\n",
    "\n",
    "- - Which ones are not so helpful."
   ]
  },
  {
   "cell_type": "code",
   "execution_count": null,
   "id": "12ffc072",
   "metadata": {},
   "outputs": [],
   "source": [
    "# Take only important columns for pairplot\n",
    "# Example: V1, V2, V3, Amount and Class\n",
    "selected_columns = ['TransactionAmount', 'Month','IsFraud']\n",
    "\n",
    "# Make sure columns exist (skip this if you're sure)\n",
    "selected_columns = [col for col in selected_columns if col in df.columns]\n",
    "\n",
    "# Plot pairplot\n",
    "sns.pairplot(df[selected_columns], hue='IsFraud', diag_kind='kde')\n",
    "plt.show()\n"
   ]
  },
  {
   "cell_type": "code",
   "execution_count": null,
   "id": "8e289277",
   "metadata": {},
   "outputs": [],
   "source": []
  }
 ],
 "metadata": {
  "kernelspec": {
   "display_name": "base",
   "language": "python",
   "name": "python3"
  },
  "language_info": {
   "codemirror_mode": {
    "name": "ipython",
    "version": 3
   },
   "file_extension": ".py",
   "mimetype": "text/x-python",
   "name": "python",
   "nbconvert_exporter": "python",
   "pygments_lexer": "ipython3",
   "version": "3.12.4"
  }
 },
 "nbformat": 4,
 "nbformat_minor": 5
}
